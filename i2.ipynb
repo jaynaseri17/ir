{
 "cells": [
  {
   "cell_type": "code",
   "execution_count": 13,
   "id": "8016d3ff-687f-49c7-a19e-ca318300ee32",
   "metadata": {},
   "outputs": [
    {
     "name": "stderr",
     "output_type": "stream",
     "text": [
      "[nltk_data] Downloading package punkt_tab to\n",
      "[nltk_data]     C:\\Users\\91932\\AppData\\Roaming\\nltk_data...\n",
      "[nltk_data]   Package punkt_tab is already up-to-date!\n",
      "[nltk_data] Downloading package stopwords to\n",
      "[nltk_data]     C:\\Users\\91932\\AppData\\Roaming\\nltk_data...\n",
      "[nltk_data]   Package stopwords is already up-to-date!\n"
     ]
    },
    {
     "name": "stdin",
     "output_type": "stream",
     "text": [
      " love\n"
     ]
    },
    {
     "name": "stdout",
     "output_type": "stream",
     "text": [
      "Following documents found with the best match for querry []\n",
      "Following documents found with the exact match for querry []\n"
     ]
    }
   ],
   "source": [
    "from nltk.corpus import stopwords\n",
    "import nltk\n",
    "nltk.download('punkt_tab')\n",
    "nltk.download('stopwords')\n",
    "from nltk.stem import LancasterStemmer\n",
    "from nltk.tokenize import word_tokenize\n",
    "\n",
    "\n",
    "stop_words = set(stopwords.words('english'))\n",
    "\n",
    "doc_dict = [\n",
    "    [\"d1\", \"Welcome to hotel heaven such a lovely place\"],\n",
    "    [\"d2\", \"She is buying a stairway to heaven\"],\n",
    "    [\"d3\", \"Don't make it bad\"],\n",
    "    [\"d4\", \"Take me to the heaven\"]\n",
    "]\n",
    "\n",
    "doc_with_exact_match= []\n",
    "doc_with_best_match= []\n",
    "querry = input()\n",
    "for key, val in doc_dict:\n",
    "    \n",
    "    querry1 = word_tokenize(querry)\n",
    "    word_tokens = word_tokenize(val)\n",
    "\n",
    "    filtered_sentence = [w for w in word_tokens if not w.lower() in stop_words]\n",
    "\n",
    "    filtered_sentence = []\n",
    "\n",
    "    for w in word_tokens:\n",
    "        if w not in stop_words:\n",
    "            filtered_sentence.append(w)\n",
    "\n",
    "    flag = 0\n",
    "    for word in filtered_sentence:\n",
    "        \n",
    "        for w in querry1:\n",
    "            \n",
    "            if word.lower() == w.lower():\n",
    "                flag = 1\n",
    "                break;\n",
    "                \n",
    "    if flag == 1:\n",
    "        doc_with_best_match.append(key)\n",
    "    \n",
    "    exact_match = 1\n",
    "    for w in querry1:\n",
    "            flag = 0\n",
    "            for word in filtered_sentence:\n",
    "                \n",
    "                if word.lower() == w.lower():\n",
    "                    flag = 1\n",
    "                    \n",
    "            if flag == 0:\n",
    "                exact_match = 0\n",
    "                break\n",
    "    if exact_match == 1:\n",
    "        doc_with_best_match.remove(key)\n",
    "        doc_with_exact_match.append(key)\n",
    "        \n",
    "print(\"Following documents found with the best match for querry\", doc_with_best_match)\n",
    "print(\"Following documents found with the exact match for querry\", doc_with_exact_match)"
   ]
  },
  {
   "cell_type": "code",
   "execution_count": null,
   "id": "077bcf9c-fc2b-4f5d-8759-97022f113689",
   "metadata": {},
   "outputs": [],
   "source": []
  }
 ],
 "metadata": {
  "kernelspec": {
   "display_name": "Python 3 (ipykernel)",
   "language": "python",
   "name": "python3"
  },
  "language_info": {
   "codemirror_mode": {
    "name": "ipython",
    "version": 3
   },
   "file_extension": ".py",
   "mimetype": "text/x-python",
   "name": "python",
   "nbconvert_exporter": "python",
   "pygments_lexer": "ipython3",
   "version": "3.12.7"
  }
 },
 "nbformat": 4,
 "nbformat_minor": 5
}
